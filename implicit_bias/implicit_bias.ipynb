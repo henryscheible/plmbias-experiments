{
 "cells": [
  {
   "cell_type": "code",
   "execution_count": 3,
   "metadata": {},
   "outputs": [],
   "source": [
    "import pandas as pd\n",
    "import json"
   ]
  },
  {
   "cell_type": "code",
   "execution_count": 6,
   "metadata": {},
   "outputs": [],
   "source": [
    "with open(\"Clean_Distinct_Examples.json\") as file:\n",
    "    clean_distinct_examples = [json.loads(line) for line in file.readlines()]\n",
    "with open(\"Debiased_Examples_By_List.json\") as file:\n",
    "    debiased_examples_by_list = [json.loads(line) for line in file.readlines()]"
   ]
  },
  {
   "cell_type": "code",
   "execution_count": 10,
   "metadata": {},
   "outputs": [
    {
     "data": {
      "text/plain": [
       "{'Lazy and entitled: Some people believe that young people are lazy and entitled, expecting everything to be handed to them without putting in any effort.\\n': {'1': ' \"These young people today just don\\'t know the value of hard work. They expect everything to be handed to them on a silver platter.\"',\n",
       "  '2': ' \"I don\\'t understand why these millennials can\\'t just get a job and support themselves. They\\'re too busy playing video games and scrolling through social media.\"'},\n",
       " 'Disrespectful: Some people believe that young people are disrespectful and lack manners, not showing proper respect to authority figures or older generations.\\n': {'1': ' \"These young people today have no respect for their elders. They\\'re always on their phones and don\\'t even bother to look up when someone is talking to them.\"',\n",
       "  '2': ' \"I can\\'t believe how rude these kids are these days. They don\\'t say please or thank you, and they talk back to their parents and teachers.\"'},\n",
       " 'Technology-obsessed: Some people believe that young people are overly obsessed with technology and social media, spending too much time on their phones or computers.\\n': {'1': '- \"Kids these days are always glued to their screens. They don\\'t know how to have a real conversation anymore.\"',\n",
       "  '2': '- \"When I was their age, we didn\\'t have all these gadgets. We actually went outside and played.\"'},\n",
       " 'Irresponsible: Some people believe that young people are irresponsible and make poor decisions, not taking their responsibilities seriously.': {'1': ' \"I wouldn\\'t trust a young person to handle that project. They\\'re too irresponsible and lack the experience to make good decisions.\"',\n",
       "  '2': ' \"Young people these days are always partying and wasting their time. They don\\'t know how to be responsible and take care of their obligations.\"'}}"
      ]
     },
     "execution_count": 10,
     "metadata": {},
     "output_type": "execute_result"
    }
   ],
   "source": [
    "clean_distinct_examples[0][\"YoungPeople\"]"
   ]
  },
  {
   "cell_type": "code",
   "execution_count": 15,
   "metadata": {},
   "outputs": [
    {
     "data": {
      "text/plain": [
       "['I think it\\'s important to recognize that every generation faces unique challenges and opportunities. While some young people may have different priorities or approaches to work, it\\'s unfair to generalize and assume that they all lack a strong work ethic. Many young people are working hard to achieve their goals and contribute to society in meaningful ways.\"',\n",
       " 'I think it\\'s important for everyone to have a job and support themselves, but I also recognize that the job market can be tough for young people. It\\'s unfair to assume that all millennials are lazy and only interested in video games and social media. Many of them are working hard to build their careers and contribute to society in meaningful ways.\"',\n",
       " 'I\\'ve noticed that some young people seem to be very focused on their phones and may not always give their full attention to those around them. However, I also know many young people who are respectful and engaged in conversations with people of all ages.\"',\n",
       " 'I\\'ve noticed that some young people these days may not always use the most polite language, but I think it\\'s important to remember that everyone has their own communication style. It\\'s also important to recognize that there are many young people who are respectful and courteous to others, including their parents and teachers.\"',\n",
       " 'I\\'ve noticed that many young people today spend a lot of time on their devices, but I also see them engaging in meaningful conversations and building relationships through technology. It\\'s important to recognize that technology is just one way of communicating and connecting with others, and young people are adapting to new forms of communication in their own unique ways.\"',\n",
       " 'I think it\\'s great that young people have access to so many different types of technology and gadgets. It\\'s amazing how much the world has changed since I was their age. However, I also think it\\'s important for them to have a balance between screen time and outdoor activities.\"',\n",
       " 'I think we should consider all candidates for the project, regardless of age. While some may have less experience than others, it\\'s important to evaluate each person\\'s skills and qualifications to determine who would be the best fit for the job.\"',\n",
       " 'I think it\\'s important to recognize that young people have a lot of different interests and priorities. While some may enjoy socializing and having fun, others are very responsible and focused on their goals. It\\'s unfair to generalize and assume that all young people are the same.\"']"
      ]
     },
     "execution_count": 15,
     "metadata": {},
     "output_type": "execute_result"
    }
   ],
   "source": [
    "[\"\".join(sent.split('\\n\\n\\\"')[1:]) for sent in debiased_examples_by_list[0][\"YoungPeople\"]]"
   ]
  },
  {
   "cell_type": "code",
   "execution_count": null,
   "metadata": {},
   "outputs": [],
   "source": []
  }
 ],
 "metadata": {
  "kernelspec": {
   "display_name": "base",
   "language": "python",
   "name": "python3"
  },
  "language_info": {
   "codemirror_mode": {
    "name": "ipython",
    "version": 3
   },
   "file_extension": ".py",
   "mimetype": "text/x-python",
   "name": "python",
   "nbconvert_exporter": "python",
   "pygments_lexer": "ipython3",
   "version": "3.9.12"
  },
  "orig_nbformat": 4
 },
 "nbformat": 4,
 "nbformat_minor": 2
}
